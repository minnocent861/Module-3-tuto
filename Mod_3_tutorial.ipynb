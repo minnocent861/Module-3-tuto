{
 "cells": [
  {
   "cell_type": "code",
   "execution_count": 3,
   "id": "c0c39fe3-5480-4c43-8be0-13d7c0969878",
   "metadata": {},
   "outputs": [
    {
     "name": "stdout",
     "output_type": "stream",
     "text": [
      "0 1 2 "
     ]
    }
   ],
   "source": [
    "class Solution:\n",
    "    # Function to sort an array of 0s, 1s, and 2s\n",
    "    def sort012(self, arr):\n",
    "        n = len(arr)\n",
    "        lo = 0\n",
    "        hi = n - 1\n",
    "        mid = 0\n",
    "\n",
    "        # Iterate till all the elements are sorted\n",
    "        while mid <= hi:\n",
    "            if arr[mid] == 0:\n",
    "                arr[lo], arr[mid] = arr[mid], arr[lo]\n",
    "                lo += 1\n",
    "                mid += 1\n",
    "            elif arr[mid] == 1:\n",
    "                mid += 1\n",
    "            else:\n",
    "                arr[mid], arr[hi] = arr[hi], arr[mid]\n",
    "                hi -= 1\n",
    "\n",
    "        return arr\n",
    "\n",
    "# Testing the function\n",
    "arr = [1, 0, 2]\n",
    "solution = Solution()\n",
    "arr = solution.sort012(arr)\n",
    "\n",
    "# Print sorted array\n",
    "for x in arr:\n",
    "    print(x, end=\" \")"
   ]
  },
  {
   "cell_type": "code",
   "execution_count": null,
   "id": "6898b217-ef85-42fd-8dc0-98584b62dda6",
   "metadata": {},
   "outputs": [],
   "source": []
  },
  {
   "cell_type": "code",
   "execution_count": 5,
   "id": "f1c03dbf-ef9a-4b5d-be23-396d70eeaca9",
   "metadata": {},
   "outputs": [
    {
     "name": "stdout",
     "output_type": "stream",
     "text": [
      "Element is present at index 2\n"
     ]
    }
   ],
   "source": [
    "class Solution:\n",
    "    def binarysearch(self, left, right, arr, k):\n",
    "        # Base condition for the binary search\n",
    "        if left <= right:\n",
    "            mid = left + (right - left) // 2\n",
    "\n",
    "            # If element is present at the middle\n",
    "            if arr[mid] == k:\n",
    "                # Ensure the smallest index is returned in case of duplicates\n",
    "                while mid > 0 and arr[mid - 1] == k:\n",
    "                    mid -= 1\n",
    "                return mid\n",
    "\n",
    "            # If element is smaller than mid, search the left subarray\n",
    "            elif arr[mid] > k:\n",
    "                return self.binarysearch(left, mid - 1, arr, k)\n",
    "\n",
    "            # Else, search the right subarray\n",
    "            else:\n",
    "                return self.binarysearch(mid + 1, right, arr, k)\n",
    "\n",
    "        # Element is not present in the array\n",
    "        return -1\n",
    "\n",
    "\n",
    "# Driver code\n",
    "arr = [1, 2, 3, 4, 5]\n",
    "k = 3\n",
    "solution = Solution()\n",
    "result = solution.binarysearch(0, len(arr) - 1, arr, k)\n",
    "\n",
    "if result != -1:\n",
    "    print(\"Element is present at index %d\" % result)\n",
    "else:\n",
    "    print(\"Element is not present in array\")"
   ]
  },
  {
   "cell_type": "code",
   "execution_count": null,
   "id": "744f68f0-72ea-47ef-828d-1a2d5f35195e",
   "metadata": {},
   "outputs": [],
   "source": []
  },
  {
   "cell_type": "code",
   "execution_count": null,
   "id": "814c1602-88ac-489e-82fa-07e2b2cca67f",
   "metadata": {},
   "outputs": [],
   "source": []
  }
 ],
 "metadata": {
  "kernelspec": {
   "display_name": "Python 3 (ipykernel)",
   "language": "python",
   "name": "python3"
  },
  "language_info": {
   "codemirror_mode": {
    "name": "ipython",
    "version": 3
   },
   "file_extension": ".py",
   "mimetype": "text/x-python",
   "name": "python",
   "nbconvert_exporter": "python",
   "pygments_lexer": "ipython3",
   "version": "3.12.7"
  }
 },
 "nbformat": 4,
 "nbformat_minor": 5
}
